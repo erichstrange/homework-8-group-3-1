{
 "cells": [
  {
   "cell_type": "code",
   "execution_count": 17,
   "metadata": {},
   "outputs": [],
   "source": [
    "%load_ext autoreload\n",
    "%autoreload 2\n",
    "from cibin import *"
   ]
  },
  {
   "cell_type": "code",
   "execution_count": 10,
   "metadata": {},
   "outputs": [
    {
     "data": {
      "text/plain": [
       "(11, 742, 59, 693)"
      ]
     },
     "execution_count": 10,
     "metadata": {},
     "output_type": "execute_result"
    }
   ],
   "source": [
    "# Data from Regeneron\n",
    "# treatment 1 = antibody\n",
    "# treatment 0 = no antibody\n",
    "# outcome 1 = covid\n",
    "# outcome 0 = no covid\n",
    "\n",
    "n = 753\n",
    "m = 752\n",
    "N = n + m\n",
    "\n",
    "n11 = 11 # number of subjects assigned to treatment 1 who had outcome 1\n",
    "n10 = n - n11 # number of subjects assigned to treatment 1 who had outcome 0\n",
    "n01 = 59 # number of subjects assigned to treatment 0 who had outcome 1\n",
    "n00 = m - n01 # number of subjects assigned to treatment 0 who had outcome 0\n",
    "\n",
    "alpha = 0.05"
   ]
  },
  {
   "cell_type": "markdown",
   "metadata": {},
   "source": [
    "# Analysis Part II\n",
    "*Is the same method applicable to the two intermediate endpoints, symptoms within 1 week and symptoms after 1 week? If so, how? Identify any additional assumptions or adjustments that would be required to use the method on the intermediate endpoints. If the method is not applicable to the intermediate endpoints, explain why.*\n",
    "\n",
    "In Part I, we applied the `cibin` method to find the 95% lower and two-sided confidence intervals for the reduction in risk in contracting Covid corresponding to the primary endpoint. This same method can be applied to intermediate endpoints - symptoms within 1 week and symptoms after 1 week, but additional assumptions must be made.\n",
    "\n",
    "The primary endpoint is now whether symptoms exist, rather than if covid is contracted. We will not be able to use the test to assess the severity of the symptoms, only whether there are symptoms or not. We will also have to assume that the study participants are all seeking similar methods of treatment for covid once they are diagnosed, as the treatment that the patients seek (if any) might result in different durations of symptoms."
   ]
  },
  {
   "cell_type": "markdown",
   "metadata": {},
   "source": [
    "# Analysis Part III\n",
    "*Imagine enumerating all the subject-weeks (4 weeks per subject), and labeling each as either “has symptoms” or “does not have symptoms,” so that each week is labeled with a binary outcome. Can either of the methods you implemented be used to find confidence bounds for the average treatment effect, measured as the reduction in the average number of symptomatic weeks per subject? If so, explain how; if not, explain why.*\n",
    "\n",
    "Yes, we could still use the methods we developed for this analysis, because we are still only looking at binary outcomes. We can construct the confidence intervals in the same way as the average treatment effect, by choosing a reasonable test statistic, testing the hypothesis that the observations ame from that table using the randomization distribution of the test statistic for each summary table of potential outcomes. We will reject if the observed value of the test statistic exceeds the 1-$\\alpha$ percentile of that distribution, and include in the confidence set otherwise. "
   ]
  },
  {
   "cell_type": "markdown",
   "metadata": {},
   "source": [
    "# Analysis Part IV\n",
    "*Read the safety information and the information about the subjects in the press release, including information about race, age, and risk factors. Based on the evidence in the press release, would you recommend this prophylactic treatment to a friend or relative? Why or why not? Is there something else you would want to know first? If so, what?*\n",
    "\n",
    "\n",
    "The press release says that the prophylactic treatment is meant to be complementary to vaccination efforts. I would first encourage my friends and family to be fully vaccinated to protect themselves from contracting Covid-19. However, if they are exposed to Covid-19 and are not yet fully vaccinated, or are immunocompromised I would recommend they look into the antibody treatment, with hesitation. The press release says adverse events occured in 20% of those who received antibody cocktail and 29% of those who received placebo, so I would first want to know the severity of these adverse effects and who was specifically affected. The study had rather low racial diversity, but a fair representation of participants with risk factors. I would like to know how much of the adverse effects were in the high risk group prior to recommending the treatment to my high risk family members and friends. 38% of participants were over 50, which I find comforting for recommending to older family members. "
   ]
  },
  {
   "cell_type": "markdown",
   "metadata": {},
   "source": [
    "# Test Suite + Style Check"
   ]
  },
  {
   "cell_type": "code",
   "execution_count": 4,
   "metadata": {},
   "outputs": [
    {
     "name": "stdout",
     "output_type": "stream",
     "text": [
      "============================= test session starts ==============================\n",
      "platform darwin -- Python 3.8.5, pytest-6.2.2, py-1.9.0, pluggy-0.13.1\n",
      "rootdir: /Users/congo/Desktop/Spring 2021/STAT159/homework-8-group-3-1\n",
      "plugins: cov-2.11.1\n",
      "collected 9 items\n",
      "\n",
      "cibin/tests/test_confidence.py .........                                 [100%]\n",
      "\n",
      "============================== 9 passed in 35.38s ==============================\n"
     ]
    }
   ],
   "source": [
    "%%bash\n",
    "pytest"
   ]
  },
  {
   "cell_type": "code",
   "execution_count": 1,
   "metadata": {},
   "outputs": [],
   "source": [
    "import pycodestyle\n",
    "import pep257"
   ]
  },
  {
   "cell_type": "code",
   "execution_count": 44,
   "metadata": {},
   "outputs": [],
   "source": [
    "%%bash\n",
    "pycodestyle cibin/confidence.py\n",
    "pycodestyle cibin/tests/test_confidence.py\n",
    "pep257 cibin/confidence.py\n",
    "pep257 cibin/tests/test_confidence.py"
   ]
  }
 ],
 "metadata": {
  "kernelspec": {
   "display_name": "Python 3",
   "language": "python",
   "name": "python3"
  },
  "language_info": {
   "codemirror_mode": {
    "name": "ipython",
    "version": 3
   },
   "file_extension": ".py",
   "mimetype": "text/x-python",
   "name": "python",
   "nbconvert_exporter": "python",
   "pygments_lexer": "ipython3",
   "version": "3.8.5"
  }
 },
 "nbformat": 4,
 "nbformat_minor": 4
}
